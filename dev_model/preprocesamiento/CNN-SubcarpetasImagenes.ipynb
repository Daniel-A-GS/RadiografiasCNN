{
 "cells": [
  {
   "cell_type": "code",
   "execution_count": 11,
   "id": "a9b1cd6b-1d5d-4346-a618-fbd0121fc909",
   "metadata": {},
   "outputs": [],
   "source": [
    "import os\n",
    "import shutil\n",
    "import pandas as pd"
   ]
  },
  {
   "cell_type": "code",
   "execution_count": 2,
   "id": "21950a68-673c-4408-b735-7c045c8162aa",
   "metadata": {},
   "outputs": [],
   "source": [
    "train = pd.read_csv(\"train_data.csv\")\n",
    "val = pd.read_csv(\"validation_data.csv\")"
   ]
  },
  {
   "cell_type": "code",
   "execution_count": 10,
   "id": "f6324526-f143-43a9-a946-396adf32bade",
   "metadata": {},
   "outputs": [
    {
     "data": {
      "text/plain": [
       "Finding Labels\n",
       "Pleural_Thickening    700\n",
       "Cardiomegaly          700\n",
       "Effusion              700\n",
       "Atelectasis           700\n",
       "Mass                  700\n",
       "Consolidation         700\n",
       "Pneumothorax          700\n",
       "Infiltration          700\n",
       "Nodule                700\n",
       "No Finding            700\n",
       "Name: count, dtype: int64"
      ]
     },
     "execution_count": 10,
     "metadata": {},
     "output_type": "execute_result"
    }
   ],
   "source": [
    "train[\"Finding Labels\"].value_counts()"
   ]
  },
  {
   "cell_type": "code",
   "execution_count": 20,
   "id": "79ab3ed1-7ec5-4cc7-b713-793352349d74",
   "metadata": {},
   "outputs": [],
   "source": [
    "train_dir = r\"D:\\Academia\\Matematicas Aplicadas\\Semestre7\\Proyecto1\\ProyectoCNN\\CHST-X8\\Filtrado\\train\"\n",
    "validation_dir = r\"D:\\Academia\\Matematicas Aplicadas\\Semestre7\\Proyecto1\\ProyectoCNN\\CHST-X8\\Filtrado\\validation\"\n",
    "\n",
    "categories = train['Finding Labels'].unique()\n",
    "\n",
    "#Crear subcarpetas x enfermedad\n",
    "def create_category_dirs(base_dir, categories):\n",
    "    for category in categories:\n",
    "        category_path = os.path.join(base_dir, category)\n",
    "        os.makedirs(category_path, exist_ok=True)\n",
    "\n",
    "create_category_dirs(train_dir, categories)\n",
    "create_category_dirs(validation_dir, categories)"
   ]
  },
  {
   "cell_type": "code",
   "execution_count": 28,
   "id": "4fd696a7-c1db-4c5a-a28f-3dbefd6a8dbb",
   "metadata": {},
   "outputs": [
    {
     "name": "stdout",
     "output_type": "stream",
     "text": [
      "Imágenes organizadas en el directorio\n"
     ]
    }
   ],
   "source": [
    "# Mover imágenes a subcarpetas según su categoría\n",
    "def imagen_por_enfermedad(base_dir, data_frame):\n",
    "    categories = data_frame['Finding Labels'].unique()\n",
    "    for category in categories:\n",
    "        #Filtrar imágenes por categoría\n",
    "        images_in_category = data_frame[data_frame['Finding Labels'] == category]['Image Index']\n",
    "        for image_name in images_in_category:\n",
    "            source_path = os.path.join(base_dir, image_name)\n",
    "            if os.path.exists(source_path):\n",
    "                dest_path = os.path.join(base_dir, category, image_name)\n",
    "                shutil.move(source_path, dest_path)\n",
    "\n",
    "imagen_por_enfermedad(train_dir, train)\n",
    "imagen_por_enfermedad(validation_dir, val)\n",
    "print(\"Imágenes organizadas en el directorio\")"
   ]
  },
  {
   "cell_type": "code",
   "execution_count": 21,
   "id": "a8d6da8b-789d-4a9c-b13b-7c9b93f29ac5",
   "metadata": {},
   "outputs": [
    {
     "data": {
      "text/html": [
       "<div>\n",
       "<style scoped>\n",
       "    .dataframe tbody tr th:only-of-type {\n",
       "        vertical-align: middle;\n",
       "    }\n",
       "\n",
       "    .dataframe tbody tr th {\n",
       "        vertical-align: top;\n",
       "    }\n",
       "\n",
       "    .dataframe thead th {\n",
       "        text-align: right;\n",
       "    }\n",
       "</style>\n",
       "<table border=\"1\" class=\"dataframe\">\n",
       "  <thead>\n",
       "    <tr style=\"text-align: right;\">\n",
       "      <th></th>\n",
       "      <th>Image Index</th>\n",
       "      <th>Finding Labels</th>\n",
       "      <th>Follow-up #</th>\n",
       "      <th>Patient ID</th>\n",
       "      <th>Patient Age</th>\n",
       "      <th>Patient Gender</th>\n",
       "      <th>View Position</th>\n",
       "      <th>OriginalImage[Width</th>\n",
       "      <th>Height]</th>\n",
       "      <th>OriginalImagePixelSpacing[x</th>\n",
       "      <th>y]</th>\n",
       "    </tr>\n",
       "  </thead>\n",
       "  <tbody>\n",
       "    <tr>\n",
       "      <th>0</th>\n",
       "      <td>00025661_000.png</td>\n",
       "      <td>Pleural_Thickening</td>\n",
       "      <td>0</td>\n",
       "      <td>25661</td>\n",
       "      <td>63</td>\n",
       "      <td>M</td>\n",
       "      <td>PA</td>\n",
       "      <td>2544</td>\n",
       "      <td>3056</td>\n",
       "      <td>0.139</td>\n",
       "      <td>0.139</td>\n",
       "    </tr>\n",
       "    <tr>\n",
       "      <th>1</th>\n",
       "      <td>00008341_011.png</td>\n",
       "      <td>Pleural_Thickening</td>\n",
       "      <td>11</td>\n",
       "      <td>8341</td>\n",
       "      <td>33</td>\n",
       "      <td>F</td>\n",
       "      <td>PA</td>\n",
       "      <td>2048</td>\n",
       "      <td>2500</td>\n",
       "      <td>0.168</td>\n",
       "      <td>0.168</td>\n",
       "    </tr>\n",
       "    <tr>\n",
       "      <th>2</th>\n",
       "      <td>00004832_003.png</td>\n",
       "      <td>Pleural_Thickening</td>\n",
       "      <td>28</td>\n",
       "      <td>4832</td>\n",
       "      <td>37</td>\n",
       "      <td>M</td>\n",
       "      <td>AP</td>\n",
       "      <td>3056</td>\n",
       "      <td>2544</td>\n",
       "      <td>0.139</td>\n",
       "      <td>0.139</td>\n",
       "    </tr>\n",
       "    <tr>\n",
       "      <th>3</th>\n",
       "      <td>00010967_010.png</td>\n",
       "      <td>Pleural_Thickening</td>\n",
       "      <td>10</td>\n",
       "      <td>10967</td>\n",
       "      <td>69</td>\n",
       "      <td>M</td>\n",
       "      <td>PA</td>\n",
       "      <td>2992</td>\n",
       "      <td>2991</td>\n",
       "      <td>0.143</td>\n",
       "      <td>0.143</td>\n",
       "    </tr>\n",
       "    <tr>\n",
       "      <th>4</th>\n",
       "      <td>00014488_000.png</td>\n",
       "      <td>Pleural_Thickening</td>\n",
       "      <td>0</td>\n",
       "      <td>14488</td>\n",
       "      <td>43</td>\n",
       "      <td>M</td>\n",
       "      <td>PA</td>\n",
       "      <td>2570</td>\n",
       "      <td>2991</td>\n",
       "      <td>0.143</td>\n",
       "      <td>0.143</td>\n",
       "    </tr>\n",
       "  </tbody>\n",
       "</table>\n",
       "</div>"
      ],
      "text/plain": [
       "        Image Index      Finding Labels  Follow-up #  Patient ID  Patient Age  \\\n",
       "0  00025661_000.png  Pleural_Thickening            0       25661           63   \n",
       "1  00008341_011.png  Pleural_Thickening           11        8341           33   \n",
       "2  00004832_003.png  Pleural_Thickening           28        4832           37   \n",
       "3  00010967_010.png  Pleural_Thickening           10       10967           69   \n",
       "4  00014488_000.png  Pleural_Thickening            0       14488           43   \n",
       "\n",
       "  Patient Gender View Position  OriginalImage[Width  Height]  \\\n",
       "0              M            PA                 2544     3056   \n",
       "1              F            PA                 2048     2500   \n",
       "2              M            AP                 3056     2544   \n",
       "3              M            PA                 2992     2991   \n",
       "4              M            PA                 2570     2991   \n",
       "\n",
       "   OriginalImagePixelSpacing[x     y]  \n",
       "0                        0.139  0.139  \n",
       "1                        0.168  0.168  \n",
       "2                        0.139  0.139  \n",
       "3                        0.143  0.143  \n",
       "4                        0.143  0.143  "
      ]
     },
     "execution_count": 21,
     "metadata": {},
     "output_type": "execute_result"
    }
   ],
   "source": [
    "train.head()"
   ]
  },
  {
   "cell_type": "code",
   "execution_count": 27,
   "id": "c75f1639-fdef-4fa9-8655-3f4a0521af5a",
   "metadata": {},
   "outputs": [
    {
     "data": {
      "text/plain": [
       "0      00025661_000.png\n",
       "1      00008341_011.png\n",
       "2      00004832_003.png\n",
       "3      00010967_010.png\n",
       "4      00014488_000.png\n",
       "             ...       \n",
       "695    00014022_030.png\n",
       "696    00026620_000.png\n",
       "697    00015375_010.png\n",
       "698    00021610_016.png\n",
       "699    00002123_000.png\n",
       "Name: Image Index, Length: 700, dtype: object"
      ]
     },
     "execution_count": 27,
     "metadata": {},
     "output_type": "execute_result"
    }
   ],
   "source": [
    "train[train['Finding Labels'] == categories[0]]['Image Index']"
   ]
  },
  {
   "cell_type": "code",
   "execution_count": null,
   "id": "ded3ce25-44be-454c-b5f1-59f02a62e8c1",
   "metadata": {},
   "outputs": [],
   "source": []
  }
 ],
 "metadata": {
  "kernelspec": {
   "display_name": "Python 3 (ipykernel)",
   "language": "python",
   "name": "python3"
  },
  "language_info": {
   "codemirror_mode": {
    "name": "ipython",
    "version": 3
   },
   "file_extension": ".py",
   "mimetype": "text/x-python",
   "name": "python",
   "nbconvert_exporter": "python",
   "pygments_lexer": "ipython3",
   "version": "3.8.18"
  }
 },
 "nbformat": 4,
 "nbformat_minor": 5
}
